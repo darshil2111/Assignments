{
 "cells": [
  {
   "cell_type": "code",
   "execution_count": 13,
   "metadata": {},
   "outputs": [
    {
     "name": "stdout",
     "output_type": "stream",
     "text": [
      "Enter Number : 13\n",
      "0\n",
      "1\n",
      "1\n",
      "2\n",
      "3\n",
      "5\n",
      "8\n",
      "13\n",
      "21\n",
      "34\n",
      "55\n",
      "89\n",
      "144\n"
     ]
    }
   ],
   "source": [
    "def fibonacci_rec(num):\n",
    "    if(num <= 1):\n",
    "        return num\n",
    "    else:\n",
    "        return(fibonacci_rec(num-1) + fibonacci_rec(num-2))\n",
    "num = int(input(\"Enter Number : \"))\n",
    "for n in range(num):\n",
    "    print(fibonacci_rec(n))"
   ]
  },
  {
   "cell_type": "code",
   "execution_count": 15,
   "metadata": {},
   "outputs": [
    {
     "name": "stdout",
     "output_type": "stream",
     "text": [
      "Enter Number : 4\n",
      "24\n"
     ]
    }
   ],
   "source": [
    "def factorial_rec(num):\n",
    "    if num==1:\n",
    "        return 1\n",
    "    else:\n",
    "        return num*factorial_rec(num-1)\n",
    "    \n",
    "num = int(input(\"Enter Number : \"))\n",
    "print(factorial_rec(num))"
   ]
  },
  {
   "cell_type": "code",
   "execution_count": 17,
   "metadata": {},
   "outputs": [
    {
     "name": "stdout",
     "output_type": "stream",
     "text": [
      "Enter height in meters: 1.70\n",
      "Enter weight in kg: 80\n",
      "27.68166089965398\n"
     ]
    }
   ],
   "source": [
    "h = float(input(\"Enter height in meters: \"))\n",
    "w = float(input(\"Enter weight in kg: \"))\n",
    "bmi = w/(h*h)\n",
    "print(bmi)"
   ]
  },
  {
   "cell_type": "code",
   "execution_count": 3,
   "metadata": {},
   "outputs": [
    {
     "name": "stdout",
     "output_type": "stream",
     "text": [
      "Print the number : 5\n",
      "1.6094379124341003\n"
     ]
    }
   ],
   "source": [
    "import math\n",
    "a=int(input(\"Print the number : \"))\n",
    "ans = math.log(a)\n",
    "print(ans)"
   ]
  },
  {
   "cell_type": "code",
   "execution_count": 6,
   "metadata": {},
   "outputs": [
    {
     "name": "stdout",
     "output_type": "stream",
     "text": [
      "Print the number : 5\n",
      "225\n"
     ]
    }
   ],
   "source": [
    "num = int(input(\"Print the number : \"))\n",
    "sum = 0\n",
    "for i in range(1,num+1):\n",
    "    sum = sum + (i*i*i)\n",
    "print(sum)"
   ]
  }
 ],
 "metadata": {
  "kernelspec": {
   "display_name": "Python 3",
   "language": "python",
   "name": "python3"
  },
  "language_info": {
   "codemirror_mode": {
    "name": "ipython",
    "version": 3
   },
   "file_extension": ".py",
   "mimetype": "text/x-python",
   "name": "python",
   "nbconvert_exporter": "python",
   "pygments_lexer": "ipython3",
   "version": "3.8.5"
  }
 },
 "nbformat": 4,
 "nbformat_minor": 4
}
