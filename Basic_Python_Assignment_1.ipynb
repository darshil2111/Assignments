{
 "cells": [
  {
   "cell_type": "code",
   "execution_count": null,
   "metadata": {},
   "outputs": [],
   "source": [
    "'''1. In the below elements which of them are values or an expression? eg:- values can be integer or string and expressions will be mathematical operators.\n",
    "* - Mathematical operator\n",
    "'hello' - String\n",
    "-87.8 - Float\n",
    "- Mathematical operator\n",
    "/ -Mathematical operator\n",
    "+\t Mathematical operator\n",
    "6 - int '''\n"
   ]
  },
  {
   "cell_type": "code",
   "execution_count": null,
   "metadata": {},
   "outputs": [],
   "source": [
    "'''What is the difference between string and variable\n",
    "\n",
    "Ans - Var is used to declare Implicitly typed variable where the compiler \n",
    "      identifies the type automatically. var can hold any type of data. \n",
    "      String is an explicit declaration for holding string data only.'''"
   ]
  },
  {
   "cell_type": "code",
   "execution_count": null,
   "metadata": {},
   "outputs": [],
   "source": [
    "''' 3.Describe three different data types\n",
    "Ans - \n",
    "1) Number :-\n",
    "Number is used to store numeric values. Python creates Number objects when a \n",
    "number is assigned to a variable. There are 4 types of numeric data:\n",
    "\n",
    "int – It is used for signed integers like 12, 2, 7, etc.\n",
    "long – This integer is used for a higher range of values like 908090800L, -0x1929292L, etc.\n",
    "float – It is used to store floating-point numbers like 1.5, 701.89, 15.2, etc.\n",
    "complex – This is used for complex numbers like 2.14j, 2.0 + 2.3j, etc.\n",
    "\n",
    "2) String\n",
    "A string is defined as a sequence of characters represented in the quotation \n",
    "marks. In python, you can use single, double, or triple quotes to define a \n",
    "string.\n",
    "\n",
    "3)List\n",
    "Lists are similar to arrays in C but it can contain different types of data in \n",
    "Python. The items stored in the list are separated with a comma (,) and \n",
    "enclosed within square brackets [].\n",
    "\n"
   ]
  },
  {
   "cell_type": "code",
   "execution_count": null,
   "metadata": {},
   "outputs": [],
   "source": [
    "'''4. What is an expression made up of? What do all expressions do?\n",
    "Ans -\n",
    "A regular expression is a special sequence of characters that helps you match or find other strings or sets of strings, \n",
    "using a specialized syntax held in a pattern. '''\n"
   ]
  },
  {
   "cell_type": "code",
   "execution_count": null,
   "metadata": {},
   "outputs": [],
   "source": [
    "''' 5. This assignment statements, like spam = 10. What is the difference between an expression and a statement?\n",
    "Ans -\n",
    "Expressions only contain identifiers, literals and operators, where operators include arithmetic and boolean operators, \n",
    "the function call operator () the subscription operator [] and similar, and can be reduced to some kind of \"value\", \n",
    "which can be any Python object. \n",
    "\n",
    "Statements (see 1, 2), on the other hand, are everything that can make up a line (or several lines) of Python code.\n",
    "Note that expressions are statements as well.'''"
   ]
  },
  {
   "cell_type": "code",
   "execution_count": null,
   "metadata": {},
   "outputs": [],
   "source": [
    "'''6. After running the following code, what does the variable bacon contain?\n",
    "bacon = 22\n",
    "bacon + 1\n",
    "Ans - bacon = 22\n",
    "'''"
   ]
  },
  {
   "cell_type": "code",
   "execution_count": null,
   "metadata": {},
   "outputs": [],
   "source": [
    "'''7. What should the values of the following two terms be?\n",
    "'spam' + 'spamspam'\n",
    "'spam' * 3\n",
    "Ans - 'spamspamspam'\n",
    "'''"
   ]
  },
  {
   "cell_type": "code",
   "execution_count": null,
   "metadata": {},
   "outputs": [],
   "source": [
    "'''8. Why is eggs a valid variable name while 100 is invalid?\n",
    "Ans - Variable name should start with letter(a-zA-Z) or underscore'''"
   ]
  },
  {
   "cell_type": "code",
   "execution_count": null,
   "metadata": {},
   "outputs": [],
   "source": [
    "'''9. What three functions can be used to get the integer, floating-point number, or string version of a value?\n",
    "Ans - int(10)\n",
    "      float(6.7)\n",
    "      str('Darshil')    \n",
    "'''"
   ]
  },
  {
   "cell_type": "code",
   "execution_count": null,
   "metadata": {},
   "outputs": [],
   "source": [
    "'''10. Why does this expression cause an error? How can you fix it?\n",
    "'I have eaten ' + 99 + ' burritos.'\n",
    "Ans - We can not add string and int."
   ]
  }
 ],
 "metadata": {
  "kernelspec": {
   "display_name": "Python 3",
   "language": "python",
   "name": "python3"
  },
  "language_info": {
   "codemirror_mode": {
    "name": "ipython",
    "version": 3
   },
   "file_extension": ".py",
   "mimetype": "text/x-python",
   "name": "python",
   "nbconvert_exporter": "python",
   "pygments_lexer": "ipython3",
   "version": "3.8.5"
  }
 },
 "nbformat": 4,
 "nbformat_minor": 4
}
