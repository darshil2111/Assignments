{
 "cells": [
  {
   "cell_type": "markdown",
   "metadata": {},
   "source": [
    "## Python Basic Programming 7"
   ]
  },
  {
   "cell_type": "markdown",
   "metadata": {},
   "source": [
    "### 1. Write a Python Program to find sum of array?\n"
   ]
  },
  {
   "cell_type": "code",
   "execution_count": 3,
   "metadata": {},
   "outputs": [
    {
     "data": {
      "text/plain": [
       "37"
      ]
     },
     "execution_count": 3,
     "metadata": {},
     "output_type": "execute_result"
    }
   ],
   "source": [
    "#Solution 1\n",
    "lst = [2,4,6,7,9,5,4]\n",
    "sum(lst)"
   ]
  },
  {
   "cell_type": "markdown",
   "metadata": {},
   "source": [
    "### 2. Write a Python Program to find largest element in an array?\n"
   ]
  },
  {
   "cell_type": "code",
   "execution_count": 6,
   "metadata": {},
   "outputs": [
    {
     "name": "stdout",
     "output_type": "stream",
     "text": [
      "largetst elemnt in the array is 801\n"
     ]
    }
   ],
   "source": [
    "lst = [100,4,10,7,5,9,800,6,7,801]\n",
    "print(\"largetst elemnt in the array is {}\".format(max(lst)))"
   ]
  },
  {
   "cell_type": "markdown",
   "metadata": {},
   "source": [
    "### 3. Write a Python Program for array rotation?\n"
   ]
  },
  {
   "cell_type": "code",
   "execution_count": 20,
   "metadata": {},
   "outputs": [
    {
     "name": "stdout",
     "output_type": "stream",
     "text": [
      "Enter the lenth of your array : 5\n",
      "1\n",
      "2\n",
      "3\n",
      "4\n",
      "5\n",
      "The array is  [1, 2, 3, 4, 5]\n",
      "Enter Rotation Right/Left : right\n",
      "Enter the number of elements to rotate < : 2\n",
      "After right rotation :  [4, 5, 1, 2, 3]\n"
     ]
    }
   ],
   "source": [
    "n = int(input(\"Enter the lenth of your array : \"))\n",
    "lst = []\n",
    "\n",
    "for i in range(n):\n",
    "    lst.append(int(input()))\n",
    "print(\"The array is \",lst)\n",
    "rotation = input(\"Enter Rotation Right/Left : \")\n",
    "p = int(input(\"Enter the number of elements to rotate < : \"))\n",
    "if p > n:\n",
    "    print(\"can not rotate as elements to rotate is larger then list lengh\")\n",
    "elif p==n or p==0:\n",
    "    print(\"After {} Rotation : {}\".format(rotation,lst))\n",
    "else:\n",
    "    final_arr = []\n",
    "    if rotation.lower() == \"right\":\n",
    "        final_arr[:] = lst[-p:] + lst[:(n-p)]\n",
    "        print(\"After right rotation : \",final_arr)\n",
    "    elif rotation.lower() == \"left\":\n",
    "        final_arr[:] = lst[p:n] + lst[:p] \n",
    "        print(\"After Left rotation : \",final_arr)\n",
    "    else:\n",
    "        print(\"Invalid Entry\")"
   ]
  },
  {
   "cell_type": "markdown",
   "metadata": {},
   "source": [
    "### 4. Write a Python Program to Split the array and add the first part to the end?\n"
   ]
  },
  {
   "cell_type": "code",
   "execution_count": 22,
   "metadata": {},
   "outputs": [
    {
     "name": "stdout",
     "output_type": "stream",
     "text": [
      "Enter the lenth of your array : 5\n",
      "1\n",
      "2\n",
      "3\n",
      "4\n",
      "5\n",
      "The array is  [1, 2, 3, 4, 5]\n",
      "Enter the number of elements to split < : 2\n",
      "The split array is : [1, 2]\n",
      "The array after split and add : [3, 4, 5, 1, 2]\n"
     ]
    }
   ],
   "source": [
    "n = int(input(\"Enter the lenth of your array : \"))\n",
    "lst = []\n",
    "fianl_array = []\n",
    "\n",
    "for i in range(n):\n",
    "    lst.append(int(input()))\n",
    "print(\"The array is \",lst)\n",
    "\n",
    "x = int(input(\"Enter the number of elements to split < : \"))\n",
    "if x > n:\n",
    "    print(\"can not split as elements to split is larger then array lengh\")\n",
    "else:\n",
    "    print(\"The split array is :\",lst[:x])\n",
    "    fianl_array[:] = lst[x:n] + lst[:x]\n",
    "    print(\"The array after split and add :\", fianl_array)"
   ]
  },
  {
   "cell_type": "markdown",
   "metadata": {},
   "source": [
    "###### 5. Write a Python Program to check if given array is Monotonic?\n",
    "    - An array is said to be monotonic in nature if it is either continuously increasing or continuously decreasing."
   ]
  },
  {
   "cell_type": "code",
   "execution_count": 29,
   "metadata": {},
   "outputs": [
    {
     "name": "stdout",
     "output_type": "stream",
     "text": [
      "Enter the lenth of your list : 3\n",
      "1\n",
      "2\n",
      "3\n",
      "The List is  [1, 2, 3]\n",
      "Monotonic\n"
     ]
    }
   ],
   "source": [
    "n = int(input(\"Enter the lenth of your list : \"))\n",
    "lst = []\n",
    "\n",
    "for i in range(n):\n",
    "    lst.append(int(input()))\n",
    "print(\"The List is \",lst)\n",
    "\n",
    "if all((lst[i] < lst[i+1] for i in range(n-1)) or (lst[i] > lst[i+1] for i in range(n-1))):\n",
    "    print(\"Monotonic\")\n",
    "else:\n",
    "    print(\"Not Monotonic\")"
   ]
  }
 ],
 "metadata": {
  "kernelspec": {
   "display_name": "Python 3",
   "language": "python",
   "name": "python3"
  },
  "language_info": {
   "codemirror_mode": {
    "name": "ipython",
    "version": 3
   },
   "file_extension": ".py",
   "mimetype": "text/x-python",
   "name": "python",
   "nbconvert_exporter": "python",
   "pygments_lexer": "ipython3",
   "version": "3.8.5"
  }
 },
 "nbformat": 4,
 "nbformat_minor": 4
}
