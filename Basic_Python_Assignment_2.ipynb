{
 "cells": [
  {
   "cell_type": "code",
   "execution_count": null,
   "metadata": {},
   "outputs": [],
   "source": [
    "'''1.What are the two values of the Boolean data type? How do you write them?\n",
    "Ans - 1) True\n",
    "      2) False\n",
    "'''\n",
    "str = \"Darshil\"\n",
    "a = str.isalpha()\n",
    "b = str.islower()\n",
    "print(a,b)"
   ]
  },
  {
   "cell_type": "code",
   "execution_count": null,
   "metadata": {},
   "outputs": [],
   "source": [
    "'''What are the three different types of Boolean operators?\n",
    "Ans - 1) The AND operator (&& or “and”)\n",
    "      2) The OR operator (|| or “or”)\n",
    "      3) The NOT operator (not)\n",
    "'''"
   ]
  },
  {
   "cell_type": "code",
   "execution_count": null,
   "metadata": {},
   "outputs": [],
   "source": [
    "'''3. Make a list of each Boolean operator's truth tables \n",
    "Ans - 1) And Operator\n",
    "    x     y     o/p\n",
    "  True  True  True\n",
    "  True  False False\n",
    "  False True  False\n",
    "  False False False\n",
    "  \n",
    "  2) OR Operator\n",
    "    x     y     o/p\n",
    "  True  True  True\n",
    "  True  False True\n",
    "  False True  True\n",
    "  False False False\n",
    "  \n",
    "  3) NOT Operator\n",
    "  x    O/p\n",
    "  True False \n",
    "  False True\n",
    "'''"
   ]
  },
  {
   "cell_type": "code",
   "execution_count": null,
   "metadata": {},
   "outputs": [],
   "source": [
    "'''What are the values of the following expressions?\n",
    "(5 > 4) and (3 == 5) = False\n",
    "not (5 > 4) = False\n",
    "(5 > 4) or (3 == 5) = True\n",
    "not ((5 > 4) or (3 == 5)) = False\n",
    "(True and True) and (True == False) = False\n",
    "(not False) or (not True) = True\n",
    "\n",
    "'''"
   ]
  },
  {
   "cell_type": "code",
   "execution_count": null,
   "metadata": {},
   "outputs": [],
   "source": [
    "'''What are the six comparison operators ?\n",
    "1. Equal To (==)\n",
    "2. Not Equal To (!=)\n",
    "3. Greater Than (>)\n",
    "4. Less Than (<)\n",
    "5. Greater Than Equal To (>=)\n",
    "6. Less Than Equal To (<=)\n",
    "\n",
    "'''"
   ]
  },
  {
   "cell_type": "code",
   "execution_count": null,
   "metadata": {},
   "outputs": [],
   "source": [
    "'''6. How do you tell the difference between the equal to and assignment operators?Describe a condition and when you would use one.\n",
    "Ans - Equal (==) is comparison operator which is used to check Both left and right hand side values are equal or not \n",
    "      And assignment operator (=) is used to assign Right side value in left side variable.\n",
    "      \n",
    "      Equal to(==) will give True or False as output based on values but assignment won't give any output it will just assign value to variable. \n",
    "'''"
   ]
  },
  {
   "cell_type": "code",
   "execution_count": null,
   "metadata": {},
   "outputs": [],
   "source": [
    "'''7. Identify the three blocks in this code:\n",
    "spam = 0\n",
    "Block1 - {if spam == 10:\n",
    "    print('eggs')}\n",
    "Block2 - {if spam > 5:\n",
    "    print('bacon')}\n",
    "Block3 - {else:\n",
    "    print('ham')\n",
    "    print('spam')\n",
    "    print('spam')}\n",
    "'''"
   ]
  },
  {
   "cell_type": "code",
   "execution_count": 5,
   "metadata": {},
   "outputs": [
    {
     "name": "stdout",
     "output_type": "stream",
     "text": [
      "Enter value for spam , spam = 1 Hello , spam = 2 Howdy , spam = anyother Greetings5\n",
      "Greetings\n"
     ]
    }
   ],
   "source": [
    "'''8. Write code that prints Hello if 1 is stored in spam, prints Howdy if 2 is stored in spam, and prints Greetings! if anything else is stored in spam.'''\n",
    "spam = int(input(\"Enter value for spam , spam = 1 Hello , spam = 2 Howdy , spam = anyother Greetings\"))\n",
    "if(spam == 1):\n",
    "    print(\"Hello\")\n",
    "elif(spam == 2):\n",
    "    print(\"Howdy\")\n",
    "else:\n",
    "    print(\"Greetings\")"
   ]
  },
  {
   "cell_type": "code",
   "execution_count": null,
   "metadata": {},
   "outputs": [],
   "source": [
    "'''9.If your programme is stuck in an endless loop, what keys you’ll press?\n",
    "Ans - Ctrl+C\n",
    "'''"
   ]
  },
  {
   "cell_type": "code",
   "execution_count": null,
   "metadata": {},
   "outputs": [],
   "source": [
    "'''10. How can you tell the difference between break and continue?\n",
    "Ans - break is used for immediate termination of loop. On the other hand,\n",
    "      ‘continue’ terminate the current iteration and resumes the control to the next iteration of the loop.\n",
    "'''"
   ]
  },
  {
   "cell_type": "code",
   "execution_count": null,
   "metadata": {},
   "outputs": [],
   "source": [
    "'''11. In a for loop, what is the difference between range(10), range(0, 10), and range(0, 10, 1)?\n",
    "Ans - No Difference\n",
    "'''"
   ]
  },
  {
   "cell_type": "code",
   "execution_count": 27,
   "metadata": {},
   "outputs": [
    {
     "name": "stdout",
     "output_type": "stream",
     "text": [
      "1\n",
      "2\n",
      "3\n",
      "4\n",
      "5\n",
      "6\n",
      "7\n",
      "8\n",
      "9\n",
      "10\n",
      "with while loop\n",
      "1\n",
      "2\n",
      "3\n",
      "4\n",
      "5\n",
      "6\n",
      "7\n",
      "8\n",
      "9\n",
      "10\n"
     ]
    }
   ],
   "source": [
    "'''12. Write a short program that prints the numbers 1 to 10 using a for loop. Then write an equivalent program that prints the numbers 1 to 10 using a while loop.\n",
    "'''\n",
    "for i in range (1,11,1):\n",
    "    print(i)\n",
    "  \n",
    "print(\"with while loop\")\n",
    "j=1\n",
    "while ( j < 11 ):\n",
    "    print(j)\n",
    "    j=j+1"
   ]
  },
  {
   "cell_type": "code",
   "execution_count": null,
   "metadata": {},
   "outputs": [],
   "source": [
    "'''13. If you had a function named bacon() inside a module named spam, how would you call it after importing spam?\n",
    "Ans - Import spam as sp\n",
    "      sp.bacon()\n",
    "'''"
   ]
  }
 ],
 "metadata": {
  "kernelspec": {
   "display_name": "Python 3",
   "language": "python",
   "name": "python3"
  },
  "language_info": {
   "codemirror_mode": {
    "name": "ipython",
    "version": 3
   },
   "file_extension": ".py",
   "mimetype": "text/x-python",
   "name": "python",
   "nbconvert_exporter": "python",
   "pygments_lexer": "ipython3",
   "version": "3.8.5"
  }
 },
 "nbformat": 4,
 "nbformat_minor": 4
}
