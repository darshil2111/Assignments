{
 "cells": [
  {
   "cell_type": "code",
   "execution_count": 1,
   "metadata": {},
   "outputs": [
    {
     "name": "stdout",
     "output_type": "stream",
     "text": [
      "enter km1\n",
      "miles = 0.6211180124223602\n"
     ]
    }
   ],
   "source": [
    "d=int(input(\"enter km\"))\n",
    "m=d/1.61\n",
    "print(\"miles = {}\".format(m))"
   ]
  },
  {
   "cell_type": "code",
   "execution_count": 2,
   "metadata": {},
   "outputs": [
    {
     "name": "stdout",
     "output_type": "stream",
     "text": [
      "enter temp in celsius15\n",
      "fahrenheit = 59.0\n"
     ]
    }
   ],
   "source": [
    "c=float(input(\"enter temp in celsius\"))\n",
    "f=c*(9/5)+32\n",
    "print(\"fahrenheit = {}\".format(f))"
   ]
  },
  {
   "cell_type": "code",
   "execution_count": 9,
   "metadata": {},
   "outputs": [
    {
     "name": "stdout",
     "output_type": "stream",
     "text": [
      "Enter Year: 2021\n",
      "Enter Month: 8\n",
      "    August 2021\n",
      "Mo Tu We Th Fr Sa Su\n",
      "                   1\n",
      " 2  3  4  5  6  7  8\n",
      " 9 10 11 12 13 14 15\n",
      "16 17 18 19 20 21 22\n",
      "23 24 25 26 27 28 29\n",
      "30 31\n",
      "\n"
     ]
    }
   ],
   "source": [
    "import calendar\n",
    "year = int(input(\"Enter Year: \"))\n",
    "month = int(input(\"Enter Month: \"))\n",
    "print(calendar.month(year, month))"
   ]
  },
  {
   "cell_type": "code",
   "execution_count": 11,
   "metadata": {},
   "outputs": [
    {
     "name": "stdout",
     "output_type": "stream",
     "text": [
      "a: 1\n",
      "b: 7\n",
      "c: 10\n",
      "equation = 1.0x^2+7.0x+10.0\n",
      "The function has two distinct real roots: -2.0 and -5.0\n"
     ]
    }
   ],
   "source": [
    "import math\n",
    " \n",
    "a = float(input(\"a: \"))\n",
    "b = float(input(\"b: \"))\n",
    "c = float(input(\"c: \"))\n",
    "\n",
    "print(\"equation = {}x^2+{}x+{}\".format(a,b,c))\n",
    " \n",
    "d = b**2 - (4 * a * c)\n",
    " \n",
    "if d >= 0:\n",
    "    x=(-b+math.sqrt(d))/2*a\n",
    "    y=(-b-math.sqrt(d))/2*a\n",
    "else:\n",
    "    x= complex((-b/(2*a)),math.sqrt(-d)/(2*a))\n",
    "    y= complex((-b/(2*a)),-math.sqrt(-d)/(2*a))\n",
    " \n",
    "if d > 0:\n",
    "    print(\"The function has two distinct real roots: {} and {}\".format(x,y))\n",
    "elif d == 0:\n",
    "    print(\"The function has one double root: \", x)\n",
    "else:\n",
    "    print(\"The function has two complex (conjugate) roots: {}  and {}\".format(x,y))"
   ]
  },
  {
   "cell_type": "code",
   "execution_count": 12,
   "metadata": {},
   "outputs": [
    {
     "name": "stdout",
     "output_type": "stream",
     "text": [
      "enter 1st number : 10\n",
      "enter 2nd number : 20\n",
      "before swap num1 = 10 , num2 = 20 \n",
      "After  swap num1 = 20 , num2 = 10 \n"
     ]
    }
   ],
   "source": [
    "num1 = int (input(\"enter 1st number : \"))\n",
    "num2 = int (input(\"enter 2nd number : \"))\n",
    "print(\"before swap num1 = {} , num2 = {} \".format(num1,num2))\n",
    "num1 , num2 = num2 , num1\n",
    "print(\"After  swap num1 = {} , num2 = {} \".format(num1,num2))"
   ]
  },
  {
   "cell_type": "code",
   "execution_count": null,
   "metadata": {},
   "outputs": [],
   "source": []
  }
 ],
 "metadata": {
  "kernelspec": {
   "display_name": "Python 3",
   "language": "python",
   "name": "python3"
  },
  "language_info": {
   "codemirror_mode": {
    "name": "ipython",
    "version": 3
   },
   "file_extension": ".py",
   "mimetype": "text/x-python",
   "name": "python",
   "nbconvert_exporter": "python",
   "pygments_lexer": "ipython3",
   "version": "3.8.5"
  }
 },
 "nbformat": 4,
 "nbformat_minor": 4
}
