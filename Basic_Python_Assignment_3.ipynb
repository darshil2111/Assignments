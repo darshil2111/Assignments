{
 "cells": [
  {
   "cell_type": "code",
   "execution_count": null,
   "metadata": {},
   "outputs": [],
   "source": [
    "'''1. Why are functions advantageous to have in your programs?\n",
    "Ans - Once a function is written, it can be called multiple times from within the program so it will reduce complexity of program\n",
    "'''"
   ]
  },
  {
   "cell_type": "code",
   "execution_count": null,
   "metadata": {},
   "outputs": [],
   "source": [
    "'''2. When does the code in a function run: when it's specified or when it's called?\n",
    "Ans - Function code will run when we call the function.\n",
    "'''"
   ]
  },
  {
   "cell_type": "code",
   "execution_count": null,
   "metadata": {},
   "outputs": [],
   "source": [
    "'''3. What statement creates a function?\n",
    "Ans - def function-name(paramenter):\n",
    "'''"
   ]
  },
  {
   "cell_type": "code",
   "execution_count": null,
   "metadata": {},
   "outputs": [],
   "source": [
    "'''4. What is the difference between a function and a function call?\n",
    "Ans -Function is a part of program defined seperately outside the program whereas function call is calling of the function.\n",
    "'''"
   ]
  },
  {
   "cell_type": "code",
   "execution_count": null,
   "metadata": {},
   "outputs": [],
   "source": [
    "'''5. How many global scopes are there in a Python program? How many local scopes?\n",
    "Ans -   Variables created outside the function are called global variables.\n",
    "        Anyone can access the global variable, both inside and outside of a function.\n",
    "        The variable defined inside the function is called the local variable. \n",
    "        We can access the local variable only inside the function.\n",
    "'''"
   ]
  },
  {
   "cell_type": "code",
   "execution_count": null,
   "metadata": {},
   "outputs": [],
   "source": [
    "'''6. What happens to variables in a local scope when the function call returns?\n",
    "Ans - A local scope is created whenever a function is called. Any variables assigned in this function exist within the local scope. When the function returns,\n",
    "      the local scope is destroyed, and these variables are forgotten.\n",
    "'''"
   ]
  },
  {
   "cell_type": "code",
   "execution_count": null,
   "metadata": {},
   "outputs": [],
   "source": [
    "'''7. What is the concept of a return value? Is it possible to have a return value in an expression?\n",
    "Ans - The specific value returned from a function is called the return value. When the return statement is executed,\n",
    "      the return value is copied from the function back to the caller. This process is called return by value.\n",
    "'''"
   ]
  },
  {
   "cell_type": "code",
   "execution_count": null,
   "metadata": {},
   "outputs": [],
   "source": [
    "'''8. If a function does not have a return statement, what is the return value of a call to that function?\n",
    "Ans - If a function doesn't specify a return value, it returns None.\n",
    "'''"
   ]
  },
  {
   "cell_type": "code",
   "execution_count": null,
   "metadata": {},
   "outputs": [],
   "source": [
    "'''9. How do you make a function variable refer to the global variable?\n",
    "Ans - By using global Keyword while declaring function.\n",
    "'''"
   ]
  },
  {
   "cell_type": "code",
   "execution_count": null,
   "metadata": {},
   "outputs": [],
   "source": [
    "'''10. What is the data type of None?\n",
    "Ans - The None keyword is used to define a null value, or no value at all. None is not the same as 0, False, or an empty string.\n",
    "      None is a data type of its own (NoneType) and only None can be None.\n",
    "'''"
   ]
  },
  {
   "cell_type": "code",
   "execution_count": 1,
   "metadata": {},
   "outputs": [
    {
     "ename": "ModuleNotFoundError",
     "evalue": "No module named 'areallyourpetsnamederic'",
     "output_type": "error",
     "traceback": [
      "\u001b[1;31m---------------------------------------------------------------------------\u001b[0m",
      "\u001b[1;31mModuleNotFoundError\u001b[0m                       Traceback (most recent call last)",
      "\u001b[1;32m<ipython-input-1-b1ea9cb2228f>\u001b[0m in \u001b[0;36m<module>\u001b[1;34m\u001b[0m\n\u001b[1;32m----> 1\u001b[1;33m \u001b[1;32mimport\u001b[0m \u001b[0mareallyourpetsnamederic\u001b[0m\u001b[1;33m\u001b[0m\u001b[1;33m\u001b[0m\u001b[0m\n\u001b[0m",
      "\u001b[1;31mModuleNotFoundError\u001b[0m: No module named 'areallyourpetsnamederic'"
     ]
    }
   ],
   "source": [
    "import areallyourpetsnamederic"
   ]
  },
  {
   "cell_type": "code",
   "execution_count": null,
   "metadata": {},
   "outputs": [],
   "source": [
    "'''12. If you had a bacon() feature in a spam module, what would you call it after importing spam?\n",
    "Ans -  import spam\n",
    "       spam.bacon()\n",
    "'''"
   ]
  },
  {
   "cell_type": "code",
   "execution_count": null,
   "metadata": {},
   "outputs": [],
   "source": [
    "'''13. What can you do to save a programme from crashing if it encounters an error?\n",
    "Ans - we can write lines of code in try block. This will not crash the programme. \n",
    "      And in except block we can catch the exception'''"
   ]
  },
  {
   "cell_type": "code",
   "execution_count": null,
   "metadata": {},
   "outputs": [],
   "source": [
    "'''14. What is the purpose of the try clause? What is the purpose of the except clause?\n",
    "Try : The code that could potentially cause an error goes in the try clause.\n",
    "except : The code that executes if an error happens goes in the except clause, like print statments about exceptions,\n",
    "loggin statements.'''"
   ]
  }
 ],
 "metadata": {
  "kernelspec": {
   "display_name": "Python 3",
   "language": "python",
   "name": "python3"
  },
  "language_info": {
   "codemirror_mode": {
    "name": "ipython",
    "version": 3
   },
   "file_extension": ".py",
   "mimetype": "text/x-python",
   "name": "python",
   "nbconvert_exporter": "python",
   "pygments_lexer": "ipython3",
   "version": "3.8.5"
  }
 },
 "nbformat": 4,
 "nbformat_minor": 4
}
