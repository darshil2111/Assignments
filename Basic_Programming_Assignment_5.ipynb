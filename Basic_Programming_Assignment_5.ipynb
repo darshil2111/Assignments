{
 "cells": [
  {
   "cell_type": "code",
   "execution_count": 8,
   "metadata": {},
   "outputs": [
    {
     "name": "stdout",
     "output_type": "stream",
     "text": [
      "Enter 1st number : 12\n",
      "Enter 2nd number : 18\n",
      "36\n"
     ]
    }
   ],
   "source": [
    "n1 = int(input(\"Enter 1st number : \"))\n",
    "n2 = int(input(\"Enter 2nd number : \"))\n",
    "if n1 > n2:  \n",
    "    g = n1  \n",
    "else:  \n",
    "    g = n2  \n",
    "for i in range (g , (n1*n2)+1):\n",
    "    if((i % n1 == 0) and (i % n2 == 0)):  \n",
    "        lcm = i \n",
    "        break    \n",
    "print(lcm)"
   ]
  },
  {
   "cell_type": "code",
   "execution_count": 11,
   "metadata": {},
   "outputs": [
    {
     "name": "stdout",
     "output_type": "stream",
     "text": [
      "Enter 1st number : 36\n",
      "Enter 2nd number : 24\n",
      "12\n"
     ]
    }
   ],
   "source": [
    "n1 = int(input(\"Enter 1st number : \"))\n",
    "n2 = int(input(\"Enter 2nd number : \"))\n",
    "if n1 < n2:  \n",
    "    s = n1  \n",
    "else:  \n",
    "    s = n2  \n",
    "for i in range (1 , s+1):\n",
    "    if((n1 % i == 0) and (n2 % i == 0)):  \n",
    "        hcf = i     \n",
    "print(hcf)"
   ]
  },
  {
   "cell_type": "code",
   "execution_count": 8,
   "metadata": {},
   "outputs": [
    {
     "name": "stdout",
     "output_type": "stream",
     "text": [
      "Enter positive Decimal number : 12\n",
      "Enter octal number : 6\n",
      "0 0 1 1 "
     ]
    }
   ],
   "source": [
    "d = int(input(\"Enter positive Decimal number : \"))\n",
    "o = int(input(\"Enter octal number : \"))\n",
    "n=d\n",
    "s=str(0)\n",
    "while(n>=1):\n",
    "    s=str(n%2)\n",
    "    n=int(n/2)\n",
    "    s=str.join\n",
    "    "
   ]
  }
 ],
 "metadata": {
  "kernelspec": {
   "display_name": "Python 3",
   "language": "python",
   "name": "python3"
  },
  "language_info": {
   "codemirror_mode": {
    "name": "ipython",
    "version": 3
   },
   "file_extension": ".py",
   "mimetype": "text/x-python",
   "name": "python",
   "nbconvert_exporter": "python",
   "pygments_lexer": "ipython3",
   "version": "3.8.5"
  }
 },
 "nbformat": 4,
 "nbformat_minor": 4
}
